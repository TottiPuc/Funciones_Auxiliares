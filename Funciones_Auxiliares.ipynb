{
  "nbformat": 4,
  "nbformat_minor": 0,
  "metadata": {
    "colab": {
      "name": "Funciones_Auxiliares.ipynb",
      "provenance": [],
      "authorship_tag": "ABX9TyNYODjDUrwxExKsCB7aRhHZ"
    },
    "kernelspec": {
      "name": "python3",
      "display_name": "Python 3"
    }
  },
  "cells": [
    {
      "cell_type": "code",
      "metadata": {
        "id": "ckCf_3zYB6tK",
        "colab_type": "code",
        "colab": {}
      },
      "source": [
        "!pip install -q -U watermark"
      ],
      "execution_count": 0,
      "outputs": []
    },
    {
      "cell_type": "code",
      "metadata": {
        "id": "hDzVcIkjAs6I",
        "colab_type": "code",
        "outputId": "146e4ef3-03a1-446a-c9e5-e26f16a3a9b7",
        "colab": {
          "base_uri": "https://localhost:8080/",
          "height": 34
        }
      },
      "source": [
        "import tensorflow as tf\n",
        "import numpy as np\n",
        "import pandas as pd\n",
        "import keras\n",
        "import sklearn\n",
        "import matplotlib"
      ],
      "execution_count": 0,
      "outputs": [
        {
          "output_type": "stream",
          "text": [
            "Using TensorFlow backend.\n"
          ],
          "name": "stderr"
        }
      ]
    },
    {
      "cell_type": "code",
      "metadata": {
        "id": "B7pZvFbBBztv",
        "colab_type": "code",
        "outputId": "1e4d2f1c-158f-4c2a-ee66-d9015abab2c1",
        "colab": {
          "base_uri": "https://localhost:8080/",
          "height": 136
        }
      },
      "source": [
        "%reload_ext watermark\n",
        "%watermark -a \"Christian Dayan Arcos Gordillo\" --iversions"
      ],
      "execution_count": 0,
      "outputs": [
        {
          "output_type": "stream",
          "text": [
            "tensorflow 2.2.0-rc3\n",
            "pandas     1.0.3\n",
            "sklearn    0.22.2.post1\n",
            "numpy      1.18.3\n",
            "matplotlib 3.2.1\n",
            "keras      2.3.1\n",
            "Christian Dayan Arcos Gordillo\n"
          ],
          "name": "stdout"
        }
      ]
    },
    {
      "cell_type": "code",
      "metadata": {
        "id": "c6zjsBilB_sN",
        "colab_type": "code",
        "colab": {}
      },
      "source": [
        "from sklearn import preprocessing\n",
        "import matplotlib.pyplot as plt\n",
        "import numpy as np\n",
        "import pandas as pd\n",
        "import shutil\n",
        "import os"
      ],
      "execution_count": 0,
      "outputs": []
    },
    {
      "cell_type": "markdown",
      "metadata": {
        "id": "PFukASiHCMFX",
        "colab_type": "text"
      },
      "source": [
        "#Construyendo vectores de caracteristicas Features"
      ]
    },
    {
      "cell_type": "markdown",
      "metadata": {
        "id": "tg5c51bKCTZf",
        "colab_type": "text"
      },
      "source": [
        "Las redes neuronales exigen que las entradas tengan un número fijo de columnas compuestas por diferentes registros (datos). Esto exige representar los datos de forma que la NN pueda ser entrenada a partir de ellos.\n",
        "\n",
        "Las siguientes son los tipos mas comunes de transformaciones de datos:\n",
        "\n",
        "***Datos de Tipo Caracter (strings)***\n",
        "\n",
        "**Nominal** - Itens discretos individuales, sin orden. Por ejemplo: color, código postal, forma.\n",
        "\n",
        "**Ordinal** - Itens discretos individuales que pueden ser ordenados. Por ejemplo: nivel de clasificación, título del trabajo, tamaño de ropa (pequeño, mediano, grande)\n",
        "***Datos Numéricos***\n",
        "\n",
        "**Intervalo** - Valores numéricos, inicio no definido. Por ejemplo, la temperatura. nunca diria \"ayer estuve dos vezes con mas fiebre que hoy\".\n",
        "\n",
        "**Ratio** - Valores numéricos, início claramente definido. Por ejemplo, la velocidad. Ud diria que \"El primer carro está yendo dos vezes mas rapido que el segundo\".\n",
        "\n",
        "##Las siguientes funciones ayudan a transformar este tipo de datos\n",
        "\n",
        "**encode_text_dummy** - Codifica los campos de texto, como las especies de de flor del dataset íris como un único campo para cada clase. Tres clases se transformarian en \"0,0,1\" \"0,1,0\" e \"1,0,0\". Podemos hazer el encoding de los predictores no-objetivo de esta  forma. Excelente para datos nominales.\n",
        "\n",
        "**encode_text_index** - Codifica los campos de texto, como un único campo numérico como \"0\" \"1\" e \"2\". Excelente para datos nominales.\n",
        "\n",
        "**encode_numeric_zscore** - Codifica los valores numéricos con un escore z. Las redes neuronales lidian bien con los campos \"centrados\", el z-score generalmente es un buen punto de partida para el intervalo / proporción.\n",
        "\n",
        "Los valores ordinales pueden ser codificados con las funciones dummy o index. \n",
        "\n",
        "##Tratamiento de datos missing o NAN:\n",
        "\n",
        "**missing_median**- Remplaza todos los valores faltantes conelo valor médio.\n",
        "\n",
        "**to_xy** - Una vez que todos los campos son numéricos, esta función puede entregar las matrizes x e y que son usadas para entrenar la rede neuronal.\n",
        "\n",
        "##Otras funciones de utilidad:\n",
        "\n",
        "**hms_string** - Imprime una secuencia de tiempo recorrido.\n",
        "**chart_regression** - Muestra un gráfico que dira que tan bien una regresión se esta ejecutando."
      ]
    },
    {
      "cell_type": "code",
      "metadata": {
        "id": "GZaHZCAsCFSM",
        "colab_type": "code",
        "colab": {}
      },
      "source": [
        "# Encoding los valores de texto para variables nominales\n",
        "def encode_text_dummy(df, name):\n",
        "    dummies = pd.get_dummies(df[name])\n",
        "    for x in dummies.columns:\n",
        "        dummy_name = \"{}-{}\".format(name, x)\n",
        "        df[dummy_name] = dummies[x]\n",
        "    df.drop(name, axis=1, inplace=True)\n",
        "\n",
        "\n",
        "# Encoding de los valores de texto para una única variable dummy. Las nuevas columnas (que no substituyen la antigua) tendran 1\n",
        "# en todos los lugares donde la columna original (nombre) corresponde a cada uno de los valores-target. Una columna es adicionada para\n",
        "# cada valor target.\n",
        "def encode_text_single_dummy(df, name, target_values):\n",
        "    for tv in target_values:\n",
        "        l = list(df[name].astype(str))\n",
        "        l = [1 if str(x) == str(tv) else 0 for x in l]\n",
        "        name2 = \"{}-{}\".format(name, tv)\n",
        "        df[name2] = l\n",
        "\n",
        "\n",
        "# Encoding de los valores de texto para índices (osea, [1], [2], [3] para tojo, verde, azul por ejemplo).\n",
        "def encode_text_index(df, name):\n",
        "    le = preprocessing.LabelEncoder()\n",
        "    df[name] = le.fit_transform(df[name])\n",
        "    return le.classes_\n",
        "\n",
        "\n",
        "# Normalización Z-score\n",
        "def encode_numeric_zscore(df, name, mean=None, sd=None):\n",
        "    if mean is None:\n",
        "        mean = df[name].mean()\n",
        "\n",
        "    if sd is None:\n",
        "        sd = df[name].std()\n",
        "\n",
        "    df[name] = (df[name] - mean) / sd\n",
        "\n",
        "\n",
        "# Convierte todos los valores faltantes en la columna especificada para la mediana\n",
        "def missing_median(df, name):\n",
        "    med = df[name].median()\n",
        "    df[name] = df[name].fillna(med)\n",
        "\n",
        "\n",
        "# Convierte todos los valores faltantes en la columna especificada para el valor patron\n",
        "def missing_default(df, name, default_value):\n",
        "    df[name] = df[name].fillna(default_value)\n",
        "\n",
        "\n",
        "# Convierte un dataframe Pandas para las entradas x, y que el TensorFlow necesita\n",
        "def to_xy(df, target):\n",
        "    result = []\n",
        "    for x in df.columns:\n",
        "        if x != target:\n",
        "            result.append(x)\n",
        "    \n",
        "    # Descubre el tipo da columna de destino. \n",
        "    target_type = df[target].dtypes\n",
        "    target_type = target_type[0] if hasattr(target_type, '__iter__') else target_type\n",
        "    \n",
        "    # Encoding para int. TensorFlow prefiere 32 bits.\n",
        "    if target_type in (np.int64, np.int32):\n",
        "        # Classificación\n",
        "        dummies = pd.get_dummies(df[target])\n",
        "        return df.values.astype('float32'), dummies.values.astype('float32')\n",
        "    else:\n",
        "        # Regresión\n",
        "        return df.values.astype('float32'), df[target].astype('float32')\n",
        "\n",
        "# String de tiempo bien formateado\n",
        "def hms_string(sec_elapsed):\n",
        "    h = int(sec_elapsed / (60 * 60))\n",
        "    m = int((sec_elapsed % (60 * 60)) / 60)\n",
        "    s = sec_elapsed % 60\n",
        "    return \"{}:{:>02}:{:>05.2f}\".format(h, m, s)\n",
        "\n",
        "\n",
        "# Gráfica de Regresión\n",
        "def chart_regression(pred,y,sort=True):\n",
        "    t = pd.DataFrame({'pred' : pred, 'y' : y.flatten()})\n",
        "    if sort:\n",
        "        t.sort_values(by=['y'],inplace = True)\n",
        "    a = plt.plot(t['y'].tolist(),label = 'expected')\n",
        "    b = plt.plot(t['pred'].tolist(),label = 'prediction')\n",
        "    plt.ylabel('output')\n",
        "    plt.legend()\n",
        "    plt.show()\n",
        "\n",
        "# Elimina todas las filas donde la columna especificada en +/- desvios estandar\n",
        "def remove_outliers(df, name, sd):\n",
        "    drop_rows = df.index[(np.abs(df[name] - df[name].mean()) >= (sd * df[name].std()))]\n",
        "    df.drop(drop_rows, axis=0, inplace = True)\n",
        "\n",
        "\n",
        "# Normalización de  Rango\n",
        "def encode_numeric_range(df, name, normalized_low=-1, normalized_high=1, data_low=None, data_high=None):\n",
        "    if data_low is None:\n",
        "        data_low = min(df[name])\n",
        "        data_high = max(df[name])\n",
        "\n",
        "    df[name] = ((df[name] - data_low) / (data_high - data_low)) * (normalized_high - normalized_low) + normalized_low"
      ],
      "execution_count": 0,
      "outputs": []
    },
    {
      "cell_type": "markdown",
      "metadata": {
        "id": "5iJ8gPWRcMgD",
        "colab_type": "text"
      },
      "source": [
        "##Funciones de Visualización\n",
        "\n",
        "Existen 3 tipos diferentes de graficos que pueden ser usados para evaluar el resultado de modelos de redes neuranales para clasificación y regresión:\n",
        "\n",
        "* **Confusion Matrix** - Para qualquer tipo de rede neural de clasificación.\n",
        "* **ROC Curve** - Para  clasificación binaria.\n",
        "* **Lift Curve** - Para redes neuronales de regressión.\n",
        "\n"
      ]
    },
    {
      "cell_type": "code",
      "metadata": {
        "id": "yqTW33rLIifz",
        "colab_type": "code",
        "colab": {}
      },
      "source": [
        "%matplotlib inline\n",
        "import matplotlib.pyplot as plt\n",
        "from sklearn.metrics import roc_curve, auc\n",
        "\n",
        "# Plot de una Confusion Matrix\n",
        "# Cm es la matriz de confusión, los nombres son los nombres de las clases\n",
        "def plot_confusion_matrix(cm, names, title='Confusion matrix', cmap=plt.cm.Blues):\n",
        "    plt.imshow(cm, interpolation='nearest', cmap=cmap)\n",
        "    plt.title(title)\n",
        "    plt.colorbar()\n",
        "    tick_marks = np.arange(len(names))\n",
        "    plt.xticks(tick_marks, names, rotation=45)\n",
        "    plt.yticks(tick_marks, names)\n",
        "    plt.tight_layout()\n",
        "    plt.ylabel('Label Observado')\n",
        "    plt.xlabel('Label Predicho')\n",
        "    \n",
        "\n",
        "# Plot de una curva ROC. pred (predicciones), y (valor observado)\n",
        "def plot_roc(pred,y):\n",
        "    fpr, tpr, _ = roc_curve(y, pred)\n",
        "    roc_auc = auc(fpr, tpr)\n",
        "\n",
        "    plt.figure()\n",
        "    plt.plot(fpr, tpr, label = 'Curva ROC (area = %0.2f)' % roc_auc)\n",
        "    plt.plot([0, 1], [0, 1], 'k--')\n",
        "    plt.xlim([0.0, 1.0])\n",
        "    plt.ylim([0.0, 1.05])\n",
        "    plt.xlabel('Taza de Falso Positivo')\n",
        "    plt.ylabel('Taza de Verdadero Positivo')\n",
        "    plt.title('Receiver Operating Characteristic (ROC)')\n",
        "    plt.legend(loc=\"lower right\")\n",
        "    plt.show()"
      ],
      "execution_count": 0,
      "outputs": []
    },
    {
      "cell_type": "code",
      "metadata": {
        "id": "FzKWlJcndPdM",
        "colab_type": "code",
        "colab": {}
      },
      "source": [
        ""
      ],
      "execution_count": 0,
      "outputs": []
    }
  ]
}